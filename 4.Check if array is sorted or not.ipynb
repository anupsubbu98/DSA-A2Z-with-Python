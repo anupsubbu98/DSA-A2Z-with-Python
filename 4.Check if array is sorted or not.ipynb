{
 "cells": [
  {
   "cell_type": "code",
   "execution_count": 1,
   "id": "849803a2-f0da-4249-8aba-e3510e624b9b",
   "metadata": {},
   "outputs": [
    {
     "name": "stdout",
     "output_type": "stream",
     "text": [
      "Array is not sorted.\n"
     ]
    }
   ],
   "source": [
    "nums = [1,2,5,3,4,2]\n",
    "n = len(nums)\n",
    "flag = 0\n",
    "for i in range(1,n):\n",
    "    if nums[i]<nums[i-1]:\n",
    "        flag = 1\n",
    "        break;\n",
    "if flag == 0:\n",
    "    print('Array is sorted.')\n",
    "else:\n",
    "    print('Array is not sorted.')"
   ]
  }
 ],
 "metadata": {
  "kernelspec": {
   "display_name": "Python 3 (ipykernel)",
   "language": "python",
   "name": "python3"
  },
  "language_info": {
   "codemirror_mode": {
    "name": "ipython",
    "version": 3
   },
   "file_extension": ".py",
   "mimetype": "text/x-python",
   "name": "python",
   "nbconvert_exporter": "python",
   "pygments_lexer": "ipython3",
   "version": "3.12.4"
  }
 },
 "nbformat": 4,
 "nbformat_minor": 5
}
