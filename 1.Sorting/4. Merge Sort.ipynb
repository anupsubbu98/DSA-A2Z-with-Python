{
 "cells": [
  {
   "cell_type": "code",
   "execution_count": 1,
   "id": "23fd7f15-65a3-4c1d-91d8-90d479c56dbb",
   "metadata": {},
   "outputs": [
    {
     "name": "stdout",
     "output_type": "stream",
     "text": [
      "[0, 2, 5, 6, 8, 9]\n"
     ]
    }
   ],
   "source": [
    "class Solution:\n",
    "\n",
    "    def mergeSort(self,nums):\n",
    "       n = len(nums)\n",
    "       self.mergeSortFunc(nums,0,n-1)\n",
    "       return nums\n",
    "\n",
    "    def mergeSortFunc(self,nums,low,high):\n",
    "        if low<high:\n",
    "            mid = (low+high)//2\n",
    "            self.mergeSortFunc(nums,low,mid)\n",
    "            self.mergeSortFunc(nums,mid+1,high)\n",
    "            self.merge(nums,low,mid,high)\n",
    "\n",
    "    def merge(self,nums,low,mid,high):\n",
    "        res = []\n",
    "        left = low\n",
    "        right = mid+1\n",
    "        while(left<=mid and right<=high):\n",
    "            if nums[left] <= nums[right]:\n",
    "                res.append(nums[left])\n",
    "                left+=1\n",
    "            else:\n",
    "                res.append(nums[right])\n",
    "                right+=1\n",
    "        while(left<=mid):\n",
    "            res.append(nums[left])\n",
    "            left+=1\n",
    "        while(right<=high):\n",
    "            res.append(nums[right])\n",
    "            right+=1\n",
    "\n",
    "        for i in range(low,high+1):\n",
    "            nums[i] = res[i-low]\n",
    "    \n",
    "nums = [9,6,5,0,8,2]\n",
    "sol = Solution()\n",
    "sortedArr = sol.mergeSort(nums)\n",
    "print(sortedArr)"
   ]
  }
 ],
 "metadata": {
  "kernelspec": {
   "display_name": "Python 3 (ipykernel)",
   "language": "python",
   "name": "python3"
  },
  "language_info": {
   "codemirror_mode": {
    "name": "ipython",
    "version": 3
   },
   "file_extension": ".py",
   "mimetype": "text/x-python",
   "name": "python",
   "nbconvert_exporter": "python",
   "pygments_lexer": "ipython3",
   "version": "3.12.4"
  }
 },
 "nbformat": 4,
 "nbformat_minor": 5
}
