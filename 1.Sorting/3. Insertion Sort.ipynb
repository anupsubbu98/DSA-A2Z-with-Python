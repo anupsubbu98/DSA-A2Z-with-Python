{
 "cells": [
  {
   "cell_type": "code",
   "execution_count": 1,
   "id": "1f59447d-7adc-4bb6-8826-27ce43b4c86b",
   "metadata": {},
   "outputs": [
    {
     "name": "stdout",
     "output_type": "stream",
     "text": [
      "[0, 1, 2, 3, 4, 5, 6, 7, 8, 9]\n"
     ]
    }
   ],
   "source": [
    "def insertionSort(nums):\n",
    "    n = len(nums)\n",
    "    for j in range(1,n):\n",
    "        key = nums[j]\n",
    "        i = j-1\n",
    "        while(i>=0 and nums[i]>key):\n",
    "           nums[i+1] = nums[i]\n",
    "           i = i-1\n",
    "           nums[i+1] = key\n",
    "    return nums\n",
    "\n",
    "# Best case input\n",
    "nums = [0,1,2,3,4,5,6,7,8,9]\n",
    "print(insertionSort(nums))"
   ]
  },
  {
   "cell_type": "code",
   "execution_count": 3,
   "id": "7bc8f14a-6596-4f78-adaf-05f61e652566",
   "metadata": {},
   "outputs": [
    {
     "name": "stdout",
     "output_type": "stream",
     "text": [
      "run 1\n",
      "run 2\n",
      "run 2\n",
      "run 3\n",
      "run 3\n",
      "run 3\n",
      "run 4\n",
      "run 5\n",
      "run 5\n",
      "run 5\n",
      "run 5\n",
      "run 6\n",
      "run 6\n",
      "run 7\n",
      "run 7\n",
      "run 7\n",
      "run 7\n",
      "run 7\n",
      "run 7\n",
      "run 8\n",
      "run 8\n",
      "run 8\n",
      "run 8\n",
      "run 8\n",
      "[0, 1, 2, 3, 5, 6, 7, 8, 9]\n"
     ]
    }
   ],
   "source": [
    "def insertionSort(nums):\n",
    "    n = len(nums)\n",
    "    for i in range(0,n):\n",
    "        j = i\n",
    "        while(j>0 and nums[j-1]>nums[j]):\n",
    "            nums[j-1],nums[j] = nums[j],nums[j-1]\n",
    "            j-=1\n",
    "            print('run',i)\n",
    "    return nums\n",
    "\n",
    "# Worst case input\n",
    "nums = [9,6,5,0,8,2,7,1,3]\n",
    "print(insertionSort(nums))"
   ]
  }
 ],
 "metadata": {
  "kernelspec": {
   "display_name": "Python 3 (ipykernel)",
   "language": "python",
   "name": "python3"
  },
  "language_info": {
   "codemirror_mode": {
    "name": "ipython",
    "version": 3
   },
   "file_extension": ".py",
   "mimetype": "text/x-python",
   "name": "python",
   "nbconvert_exporter": "python",
   "pygments_lexer": "ipython3",
   "version": "3.12.4"
  }
 },
 "nbformat": 4,
 "nbformat_minor": 5
}
