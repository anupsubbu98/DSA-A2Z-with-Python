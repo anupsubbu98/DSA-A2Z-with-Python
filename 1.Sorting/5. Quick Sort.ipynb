{
 "cells": [
  {
   "cell_type": "code",
   "execution_count": 1,
   "id": "fa3de8f4-bd09-467c-8070-9d7c864b597b",
   "metadata": {},
   "outputs": [
    {
     "name": "stdout",
     "output_type": "stream",
     "text": [
      "[1, 2, 3, 4, 5, 6, 7, 9]\n"
     ]
    }
   ],
   "source": [
    "class Solution:\n",
    "    \n",
    "        def quickSort(self,nums):\n",
    "             n = len(nums)\n",
    "             self.quickSortFunc(nums,0,n-1)\n",
    "             return nums\n",
    "\n",
    "        def quickSortFunc(self,nums,low,high):\n",
    "            if low < high:\n",
    "                pIndex = self.partition(nums,low,high)\n",
    "                self.quickSortFunc(nums,low,pIndex-1)\n",
    "                self.quickSortFunc(nums,pIndex+1,high)\n",
    "    \n",
    "        def partition(self,nums,low,high):\n",
    "            pivot = nums[low]\n",
    "            i = low\n",
    "            j = high\n",
    "            while i<j:\n",
    "                while(nums[i]<=pivot and i<=high-1):\n",
    "                    i+= 1\n",
    "                while(nums[j]>pivot and j>=low+1):\n",
    "                    j-= 1\n",
    "                if i<j:\n",
    "                    nums[i],nums[j] = nums[j],nums[i]\n",
    "    \n",
    "            nums[low],nums[j] = nums[j],nums[low]\n",
    "            return j\n",
    "\n",
    "nums = [4,6,2,5,7,9,1,3]\n",
    "solution = Solution()\n",
    "sortedArr = solution.quickSort(nums)\n",
    "print(sortedArr)"
   ]
  }
 ],
 "metadata": {
  "kernelspec": {
   "display_name": "Python 3 (ipykernel)",
   "language": "python",
   "name": "python3"
  },
  "language_info": {
   "codemirror_mode": {
    "name": "ipython",
    "version": 3
   },
   "file_extension": ".py",
   "mimetype": "text/x-python",
   "name": "python",
   "nbconvert_exporter": "python",
   "pygments_lexer": "ipython3",
   "version": "3.12.4"
  }
 },
 "nbformat": 4,
 "nbformat_minor": 5
}
