{
 "cells": [
  {
   "cell_type": "code",
   "execution_count": 1,
   "id": "583524e3-df63-497d-bbe0-246724052148",
   "metadata": {},
   "outputs": [
    {
     "name": "stdout",
     "output_type": "stream",
     "text": [
      "run 0\n",
      "run 1\n",
      "run 2\n",
      "run 3\n",
      "run 4\n",
      "[9, 13, 20, 24, 46, 52]\n"
     ]
    }
   ],
   "source": [
    "def bubbleSort(nums):\n",
    "    n = len(nums)\n",
    "    is_swap = 0\n",
    "    for i in range(0,n-1):\n",
    "        for j in range(0,n-i-1):\n",
    "            if nums[j]>nums[j+1]:\n",
    "                nums[j],nums[j+1] = nums[j+1],nums[j]\n",
    "                is_swap = 1\n",
    "        \n",
    "        print('run',i)\n",
    "        if is_swap == 0: \n",
    "            break\n",
    "    return nums\n",
    "\n",
    "# Avg Case input\n",
    "nums = [13,46,24,52,20,9]\n",
    "print(bubbleSort(nums)) "
   ]
  },
  {
   "cell_type": "code",
   "execution_count": 3,
   "id": "816efd32-12fe-4bb3-b814-35a54dc8cb53",
   "metadata": {},
   "outputs": [
    {
     "name": "stdout",
     "output_type": "stream",
     "text": [
      "run 0\n",
      "[1, 2, 3, 4, 5, 6]\n"
     ]
    }
   ],
   "source": [
    "def bubbleSort(nums):\n",
    "    n = len(nums)\n",
    "    is_swap = 0\n",
    "    for i in range(0,n-1):\n",
    "        for j in range(0,n-i-1):\n",
    "            if nums[j]>nums[j+1]:\n",
    "                nums[j],nums[j+1] = nums[j+1],nums[j]\n",
    "                is_swap = 1\n",
    "        \n",
    "        print('run',i)\n",
    "        if is_swap == 0: \n",
    "            break\n",
    "    return nums\n",
    "\n",
    "# Best Case input\n",
    "nums = [1,2,3,4,5,6]\n",
    "print(bubbleSort(nums)) "
   ]
  }
 ],
 "metadata": {
  "kernelspec": {
   "display_name": "Python 3 (ipykernel)",
   "language": "python",
   "name": "python3"
  },
  "language_info": {
   "codemirror_mode": {
    "name": "ipython",
    "version": 3
   },
   "file_extension": ".py",
   "mimetype": "text/x-python",
   "name": "python",
   "nbconvert_exporter": "python",
   "pygments_lexer": "ipython3",
   "version": "3.12.4"
  }
 },
 "nbformat": 4,
 "nbformat_minor": 5
}
