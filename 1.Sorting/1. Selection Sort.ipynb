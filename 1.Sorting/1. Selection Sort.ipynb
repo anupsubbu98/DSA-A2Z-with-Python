{
 "cells": [
  {
   "cell_type": "code",
   "execution_count": 1,
   "id": "fb324a8b-86c5-4098-980b-8686a7ebb457",
   "metadata": {},
   "outputs": [
    {
     "name": "stdout",
     "output_type": "stream",
     "text": [
      "run 0\n",
      "run 1\n",
      "run 2\n",
      "run 3\n",
      "run 4\n",
      "run 5\n",
      "[9, 13, 20, 24, 46, 52]\n"
     ]
    }
   ],
   "source": [
    "def selectionSort(nums):\n",
    "    n = len(nums)\n",
    "    is_swap = 0\n",
    "    for i in range(0,n):\n",
    "        min = i\n",
    "        for j in range(i,n):\n",
    "            if nums[j]<nums[min]:\n",
    "                min = j\n",
    "        nums[min],nums[i] = nums[i],nums[min]\n",
    "        is_swap = 1\n",
    "        \n",
    "        print('run',i)\n",
    "        if is_swap == 0: \n",
    "            break\n",
    "    return nums\n",
    "\n",
    "# Avg Case input\n",
    "nums = [13,46,24,52,20,9]\n",
    "print(selectionSort(nums)) "
   ]
  },
  {
   "cell_type": "code",
   "execution_count": 3,
   "id": "13567490-9b85-4c24-ba99-1fd4a2c16feb",
   "metadata": {},
   "outputs": [
    {
     "name": "stdout",
     "output_type": "stream",
     "text": [
      "run 0\n",
      "run 1\n",
      "run 2\n",
      "run 3\n",
      "run 4\n",
      "run 5\n",
      "[1, 2, 3, 4, 5, 6]\n"
     ]
    }
   ],
   "source": [
    "def selectionSort(nums):\n",
    "    n = len(nums)\n",
    "    is_swap = 0\n",
    "    for i in range(0,n):\n",
    "        min = i\n",
    "        for j in range(i,n):\n",
    "            if nums[j]<nums[min]:\n",
    "                min = j\n",
    "        nums[min],nums[i] = nums[i],nums[min]\n",
    "        is_swap = 1\n",
    "        \n",
    "        print('run',i)\n",
    "        if is_swap == 0: \n",
    "            break\n",
    "    return nums\n",
    "\n",
    "# Best Case input\n",
    "nums = [1,2,3,4,5,6]    \n",
    "print(selectionSort(nums)) "
   ]
  },
  {
   "cell_type": "code",
   "execution_count": 5,
   "id": "08551512-9e18-48fc-84fa-cf216fdc3090",
   "metadata": {},
   "outputs": [
    {
     "name": "stdout",
     "output_type": "stream",
     "text": [
      "run 0\n",
      "run 1\n",
      "run 2\n",
      "run 3\n",
      "run 4\n",
      "run 5\n",
      "[1, 2, 3, 4, 5, 6]\n"
     ]
    }
   ],
   "source": [
    "def selectionSort(nums):\n",
    "    n = len(nums)\n",
    "    is_swap = 0\n",
    "    for i in range(0,n):\n",
    "        min = i\n",
    "        for j in range(i,n):\n",
    "            if nums[j]<nums[min]:\n",
    "                min = j\n",
    "        nums[min],nums[i] = nums[i],nums[min]\n",
    "        is_swap = 1\n",
    "        \n",
    "        print('run',i)\n",
    "        if is_swap == 0: \n",
    "            break\n",
    "    return nums\n",
    "\n",
    "# Worst Case input\n",
    "nums = [6,5,4,3,2,1]   \n",
    "print(selectionSort(nums)) "
   ]
  }
 ],
 "metadata": {
  "kernelspec": {
   "display_name": "Python 3 (ipykernel)",
   "language": "python",
   "name": "python3"
  },
  "language_info": {
   "codemirror_mode": {
    "name": "ipython",
    "version": 3
   },
   "file_extension": ".py",
   "mimetype": "text/x-python",
   "name": "python",
   "nbconvert_exporter": "python",
   "pygments_lexer": "ipython3",
   "version": "3.12.4"
  }
 },
 "nbformat": 4,
 "nbformat_minor": 5
}
