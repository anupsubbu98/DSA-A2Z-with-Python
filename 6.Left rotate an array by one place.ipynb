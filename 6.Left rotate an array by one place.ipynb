{
 "cells": [
  {
   "cell_type": "code",
   "execution_count": 1,
   "id": "749237c8-cc55-4ad0-b53d-7db65e755e98",
   "metadata": {},
   "outputs": [
    {
     "name": "stdout",
     "output_type": "stream",
     "text": [
      "[0, 3, 6, -1]\n"
     ]
    }
   ],
   "source": [
    "nums =  [-1,0,3,6]\n",
    "n = len(nums)\n",
    "first = nums[0]\n",
    "for i in range(1,n):\n",
    "    nums[i-1]=nums[i]\n",
    "    \n",
    "nums[n-1]=first   \n",
    "print(nums)    "
   ]
  }
 ],
 "metadata": {
  "kernelspec": {
   "display_name": "Python 3 (ipykernel)",
   "language": "python",
   "name": "python3"
  },
  "language_info": {
   "codemirror_mode": {
    "name": "ipython",
    "version": 3
   },
   "file_extension": ".py",
   "mimetype": "text/x-python",
   "name": "python",
   "nbconvert_exporter": "python",
   "pygments_lexer": "ipython3",
   "version": "3.12.4"
  }
 },
 "nbformat": 4,
 "nbformat_minor": 5
}
