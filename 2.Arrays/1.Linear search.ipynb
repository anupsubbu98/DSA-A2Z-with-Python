{
 "cells": [
  {
   "cell_type": "code",
   "execution_count": 1,
   "id": "0da2abfd-ff93-4515-a0d7-c8ab590de346",
   "metadata": {},
   "outputs": [
    {
     "name": "stdout",
     "output_type": "stream",
     "text": [
      "1\n"
     ]
    }
   ],
   "source": [
    "class Solution:\n",
    "    def linearSearch(self, nums, target):\n",
    "        flag = 0\n",
    "        n = len(nums)\n",
    "        for i in range(0,n):\n",
    "            if nums[i]==target:\n",
    "                flag=i\n",
    "                break\n",
    "            else:\n",
    "                flag =-1\n",
    "        return flag;\n",
    "        \n",
    "nums = [2,3,4,5,3]\n",
    "target = 3\n",
    "solution = Solution()\n",
    "linearSearch = solution.linearSearch(nums,target)\n",
    "print(linearSearch)"
   ]
  }
 ],
 "metadata": {
  "kernelspec": {
   "display_name": "Python 3 (ipykernel)",
   "language": "python",
   "name": "python3"
  },
  "language_info": {
   "codemirror_mode": {
    "name": "ipython",
    "version": 3
   },
   "file_extension": ".py",
   "mimetype": "text/x-python",
   "name": "python",
   "nbconvert_exporter": "python",
   "pygments_lexer": "ipython3",
   "version": "3.12.4"
  }
 },
 "nbformat": 4,
 "nbformat_minor": 5
}
