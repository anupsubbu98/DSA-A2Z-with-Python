{
 "cells": [
  {
   "cell_type": "code",
   "execution_count": 1,
   "id": "3def4bf1-b0e4-4696-a8c5-6af92d76a9c2",
   "metadata": {},
   "outputs": [
    {
     "name": "stdout",
     "output_type": "stream",
     "text": [
      "7\n"
     ]
    }
   ],
   "source": [
    "class Solution:\n",
    "    def secondLargestElement(self, nums):\n",
    "        n = len(nums)\n",
    "        first_largest = nums[0]\n",
    "        for i in range(0,n):\n",
    "            if nums[i]>first_largest:\n",
    "                first_largest = nums[i]\n",
    "        second_largest = -1\n",
    "        for i in range(0,n):\n",
    "            if nums[i]>second_largest and nums[i]<first_largest:\n",
    "                second_largest = nums[i]\n",
    "        return second_largest        \n",
    "\n",
    "nums = [8,8,7,6,5]\n",
    "solution = Solution()\n",
    "secondLargestElement = solution.secondLargestElement(nums)\n",
    "print(secondLargestElement) "
   ]
  },
  {
   "cell_type": "markdown",
   "id": "c358f6d1-6170-43ec-843e-f0e45108b40b",
   "metadata": {},
   "source": [
    "#### Optimal Solution\n",
    "\n",
    "Above approach will take O(2N) time, but using the below optimal method we can solve it in O(N) time."
   ]
  },
  {
   "cell_type": "code",
   "execution_count": 3,
   "id": "54b5fab8-351f-4208-9acc-30760afd6638",
   "metadata": {},
   "outputs": [
    {
     "name": "stdout",
     "output_type": "stream",
     "text": [
      "7\n"
     ]
    }
   ],
   "source": [
    "nums = [8,8,7,6,5]\n",
    "first_largest = nums[0]\n",
    "second_largest = -1\n",
    "n = len(nums)\n",
    "\n",
    "for i in range(1,n):\n",
    "    if nums[i]>first_largest:\n",
    "        second_largest = first_largest\n",
    "        first_largest = nums[i]\n",
    "    elif nums[i]<first_largest and nums[i]>second_largest:\n",
    "        second_largest = nums[i]\n",
    "print(second_largest)"
   ]
  }
 ],
 "metadata": {
  "kernelspec": {
   "display_name": "Python 3 (ipykernel)",
   "language": "python",
   "name": "python3"
  },
  "language_info": {
   "codemirror_mode": {
    "name": "ipython",
    "version": 3
   },
   "file_extension": ".py",
   "mimetype": "text/x-python",
   "name": "python",
   "nbconvert_exporter": "python",
   "pygments_lexer": "ipython3",
   "version": "3.12.4"
  }
 },
 "nbformat": 4,
 "nbformat_minor": 5
}
