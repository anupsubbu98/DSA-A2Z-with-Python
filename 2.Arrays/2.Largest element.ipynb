{
 "cells": [
  {
   "cell_type": "code",
   "execution_count": 1,
   "id": "104dcd4e-6221-4d40-910a-170f64254e24",
   "metadata": {},
   "outputs": [
    {
     "name": "stdout",
     "output_type": "stream",
     "text": [
      "6\n"
     ]
    }
   ],
   "source": [
    "class Solution:\n",
    "    def largestElement(self, nums):\n",
    "        max = nums[0]\n",
    "        for i in range(0,len(nums)):\n",
    "            if nums[i]>max:\n",
    "                max = nums[i]\n",
    "        return max\n",
    "        \n",
    "nums = [3,3,6,1]\n",
    "solution = Solution()\n",
    "linearSearch = solution.largestElement(nums)\n",
    "print(linearSearch)       "
   ]
  }
 ],
 "metadata": {
  "kernelspec": {
   "display_name": "Python 3 (ipykernel)",
   "language": "python",
   "name": "python3"
  },
  "language_info": {
   "codemirror_mode": {
    "name": "ipython",
    "version": 3
   },
   "file_extension": ".py",
   "mimetype": "text/x-python",
   "name": "python",
   "nbconvert_exporter": "python",
   "pygments_lexer": "ipython3",
   "version": "3.12.4"
  }
 },
 "nbformat": 4,
 "nbformat_minor": 5
}
