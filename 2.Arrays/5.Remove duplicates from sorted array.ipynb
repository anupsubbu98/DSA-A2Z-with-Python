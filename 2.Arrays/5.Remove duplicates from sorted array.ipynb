{
 "cells": [
  {
   "cell_type": "code",
   "execution_count": 1,
   "id": "6b4a0736-d007-438a-8beb-98322b7f29bf",
   "metadata": {},
   "outputs": [
    {
     "name": "stdout",
     "output_type": "stream",
     "text": [
      "Original Array: 1 2 3 3 3 4 4 4 5 5 \n",
      "Array after removing the duplicates: 1 2 3 4 5 \n"
     ]
    }
   ],
   "source": [
    "def removeDuplicates(nums):\n",
    "        i = 0\n",
    "        n = len(nums)\n",
    "        for j in range(1,n):\n",
    "            if nums[i]!=nums[j]:\n",
    "              nums[i+1] = nums[j]\n",
    "              i+=1\n",
    "        return i+1\n",
    "        \n",
    "def printArray(nums,n):\n",
    "    for i in range(n):\n",
    "        print(nums[i], end=\" \")\n",
    "    print()\n",
    "\n",
    "nums = [1,2,3,3,3,4,4,4,5,5]\n",
    "print(\"Original Array: \", end=\"\")\n",
    "printArray(nums, len(nums))\n",
    "res = removeDuplicates(nums)\n",
    "print(\"Array after removing the duplicates: \", end=\"\")\n",
    "printArray(nums,res)"
   ]
  }
 ],
 "metadata": {
  "kernelspec": {
   "display_name": "Python 3 (ipykernel)",
   "language": "python",
   "name": "python3"
  },
  "language_info": {
   "codemirror_mode": {
    "name": "ipython",
    "version": 3
   },
   "file_extension": ".py",
   "mimetype": "text/x-python",
   "name": "python",
   "nbconvert_exporter": "python",
   "pygments_lexer": "ipython3",
   "version": "3.12.4"
  }
 },
 "nbformat": 4,
 "nbformat_minor": 5
}
