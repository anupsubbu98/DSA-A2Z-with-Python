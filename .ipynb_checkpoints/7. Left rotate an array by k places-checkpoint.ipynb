{
 "cells": [
  {
   "cell_type": "markdown",
   "id": "2ad59792-3ceb-4314-a3ea-48a2f54abd20",
   "metadata": {},
   "source": [
    "### Bruteforce approach\n",
    "\n",
    "In this approach, we'll take a temporary array and rotate the elements. But it takes O(k) space complexity."
   ]
  },
  {
   "cell_type": "code",
   "execution_count": 1,
   "id": "3f528a0c-bd4d-4971-bb45-852f8863aaed",
   "metadata": {},
   "outputs": [
    {
     "name": "stdout",
     "output_type": "stream",
     "text": [
      "[4, 5, 6, 7, 1, 2, 3]\n"
     ]
    }
   ],
   "source": [
    "nums = [1,2,3,4,5,6,7] \n",
    "n = len(nums)\n",
    "k = 3\n",
    "k = k%n\n",
    "temp = []\n",
    "for i in range(0,k):      # O(k)\n",
    "    temp.append(nums[i])\n",
    "\n",
    "for i in range(k,n):      # For shifting, it takes O(n-d) T.C\n",
    "    nums[i-k] = nums[i]\n",
    "\n",
    "for i in range(n-k,n):    # Here we are putting back 'k' elements --> O(k) \n",
    "    nums[i] = temp[i-(n-k)]\n",
    "\n",
    "print(nums)"
   ]
  },
  {
   "cell_type": "markdown",
   "id": "76f27c8e-7c39-4745-bb59-4c18fdbb303f",
   "metadata": {},
   "source": [
    "### Optimal Solution\n",
    "\n",
    "We can optimize the above code  without taking extra space."
   ]
  },
  {
   "cell_type": "code",
   "execution_count": 3,
   "id": "45c79b01-3f74-4a01-a72c-13d175216d4f",
   "metadata": {},
   "outputs": [
    {
     "name": "stdout",
     "output_type": "stream",
     "text": [
      "[4, 5, 6, 7, 1, 2, 3]\n"
     ]
    }
   ],
   "source": [
    "def reverse(nums,start,end):\n",
    "    while(start<=end):\n",
    "        nums[start],nums[end] = nums[end],nums[start]\n",
    "        start+=1\n",
    "        end-=1\n",
    "    return nums\n",
    "    \n",
    "nums = [1,2,3,4,5,6,7] s\n",
    "n = len(nums)\n",
    "k = 3\n",
    "k = k%n\n",
    "\n",
    "rev1 = reverse(nums,0,k-1)\n",
    "rev2 = reverse(nums,k,n-1)\n",
    "res  = reverse(nums,0,n-1)\n",
    "print(res)"
   ]
  }
 ],
 "metadata": {
  "kernelspec": {
   "display_name": "Python 3 (ipykernel)",
   "language": "python",
   "name": "python3"
  },
  "language_info": {
   "codemirror_mode": {
    "name": "ipython",
    "version": 3
   },
   "file_extension": ".py",
   "mimetype": "text/x-python",
   "name": "python",
   "nbconvert_exporter": "python",
   "pygments_lexer": "ipython3",
   "version": "3.12.4"
  }
 },
 "nbformat": 4,
 "nbformat_minor": 5
}
