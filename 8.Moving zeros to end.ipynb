{
 "cells": [
  {
   "cell_type": "markdown",
   "id": "8ab902fd-956f-43f6-939d-ec3dcafbb111",
   "metadata": {},
   "source": [
    "### Bruteforce approach\n",
    "Here we are taking one temporary array which results in O(n) space complexity."
   ]
  },
  {
   "cell_type": "code",
   "execution_count": 1,
   "id": "16fa9017-5bee-4963-b1c0-21456ecb9f3d",
   "metadata": {},
   "outputs": [
    {
     "name": "stdout",
     "output_type": "stream",
     "text": [
      "[1, 2, 3, 2, 4, 5, 1, 0, 0, 0]\n"
     ]
    }
   ],
   "source": [
    "nums = [1,0,2,3,2,0,0,4,5,1]\n",
    "n = len(nums)\n",
    "temp = []\n",
    "\n",
    "for i in range(0,n):\n",
    "    if nums[i] != 0:\n",
    "        temp.append(nums[i])\n",
    "        \n",
    "m = len(temp)\n",
    "for i in range(0,m):\n",
    "    nums[i] = temp[i]\n",
    "    \n",
    "for i in range(m,n):\n",
    "    nums[i] = 0\n",
    "\n",
    "print(nums)"
   ]
  },
  {
   "cell_type": "markdown",
   "id": "eb03cc7d-34cb-4907-9d61-04e9a10e3f40",
   "metadata": {},
   "source": [
    "### Optimal Solution"
   ]
  },
  {
   "cell_type": "code",
   "execution_count": 3,
   "id": "dc55663a-ca91-434b-9d97-71660c79c5de",
   "metadata": {},
   "outputs": [
    {
     "name": "stdout",
     "output_type": "stream",
     "text": [
      "[1, 2, 3, 2, 4, 5, 1, 0, 0, 0]\n"
     ]
    }
   ],
   "source": [
    "nums = [1,0,2,3,2,0,0,4,5,1]\n",
    "n = len(nums)\n",
    "j = -1\n",
    "for i in range(0,n-1):\n",
    "    if nums[i]==0:\n",
    "        j = i           # Get the first index where 0 is present in the array.\n",
    "        break\n",
    "        \n",
    "if j!=-1 :  \n",
    "    for i in range(j+1,n):\n",
    "        if nums[i]!=0:\n",
    "            nums[i],nums[j] = nums[j],nums[i]\n",
    "            j+=1\n",
    "            \n",
    "print(nums)"
   ]
  }
 ],
 "metadata": {
  "kernelspec": {
   "display_name": "Python 3 (ipykernel)",
   "language": "python",
   "name": "python3"
  },
  "language_info": {
   "codemirror_mode": {
    "name": "ipython",
    "version": 3
   },
   "file_extension": ".py",
   "mimetype": "text/x-python",
   "name": "python",
   "nbconvert_exporter": "python",
   "pygments_lexer": "ipython3",
   "version": "3.12.4"
  }
 },
 "nbformat": 4,
 "nbformat_minor": 5
}
